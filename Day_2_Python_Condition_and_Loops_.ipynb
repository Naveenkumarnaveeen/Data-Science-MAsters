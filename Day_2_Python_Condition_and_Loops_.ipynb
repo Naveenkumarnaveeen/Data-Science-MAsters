{
  "cells": [
    {
      "cell_type": "markdown",
      "metadata": {
        "id": "view-in-github",
        "colab_type": "text"
      },
      "source": [
        "<a href=\"https://colab.research.google.com/github/Naveenkumarnaveeen/Data-Science-MAsters/blob/main/Day_2_Python_Condition_and_Loops_.ipynb\" target=\"_parent\"><img src=\"https://colab.research.google.com/assets/colab-badge.svg\" alt=\"Open In Colab\"/></a>"
      ]
    },
    {
      "cell_type": "code",
      "execution_count": null,
      "id": "9e971a90-0a45-4a8d-ac69-f77197f59b40",
      "metadata": {
        "id": "9e971a90-0a45-4a8d-ac69-f77197f59b40"
      },
      "outputs": [],
      "source": [
        "a=10"
      ]
    },
    {
      "cell_type": "code",
      "execution_count": null,
      "id": "12fbbff6-9dc3-44c6-87d4-e66e5ea471a8",
      "metadata": {
        "id": "12fbbff6-9dc3-44c6-87d4-e66e5ea471a8"
      },
      "outputs": [],
      "source": [
        "a='c'"
      ]
    },
    {
      "cell_type": "code",
      "execution_count": null,
      "id": "b693dab3-a1d1-4954-987b-68de07500477",
      "metadata": {
        "id": "b693dab3-a1d1-4954-987b-68de07500477",
        "outputId": "eb7a1bc9-73d4-4d6a-8e65-6366f1865ebb"
      },
      "outputs": [
        {
          "data": {
            "text/plain": [
              "str"
            ]
          },
          "execution_count": 4,
          "metadata": {},
          "output_type": "execute_result"
        }
      ],
      "source": [
        "type(a)"
      ]
    },
    {
      "cell_type": "code",
      "execution_count": null,
      "id": "da9214bb-c0a9-46d7-9a95-4152a388c331",
      "metadata": {
        "id": "da9214bb-c0a9-46d7-9a95-4152a388c331",
        "outputId": "975bf752-be0e-4cb3-ecf2-6fd50b77d82c"
      },
      "outputs": [
        {
          "data": {
            "text/plain": [
              "123"
            ]
          },
          "execution_count": 7,
          "metadata": {},
          "output_type": "execute_result"
        }
      ],
      "source": [
        "int('123')"
      ]
    },
    {
      "cell_type": "code",
      "execution_count": null,
      "id": "2534e91d-5b19-4a17-84a3-26a72d73081c",
      "metadata": {
        "id": "2534e91d-5b19-4a17-84a3-26a72d73081c",
        "outputId": "71149dd9-46f4-469a-ee5a-845b6749b286"
      },
      "outputs": [
        {
          "ename": "ValueError",
          "evalue": "invalid literal for int() with base 10: 'abcd'",
          "output_type": "error",
          "traceback": [
            "\u001b[0;31m---------------------------------------------------------------------------\u001b[0m",
            "\u001b[0;31mValueError\u001b[0m                                Traceback (most recent call last)",
            "Cell \u001b[0;32mIn[8], line 1\u001b[0m\n\u001b[0;32m----> 1\u001b[0m \u001b[38;5;28;43mint\u001b[39;49m\u001b[43m(\u001b[49m\u001b[38;5;124;43m'\u001b[39;49m\u001b[38;5;124;43mabcd\u001b[39;49m\u001b[38;5;124;43m'\u001b[39;49m\u001b[43m)\u001b[49m\n",
            "\u001b[0;31mValueError\u001b[0m: invalid literal for int() with base 10: 'abcd'"
          ]
        }
      ],
      "source": [
        "int('abcd')"
      ]
    },
    {
      "cell_type": "code",
      "execution_count": null,
      "id": "84dc4185-d700-4766-8dca-b44b8e26845f",
      "metadata": {
        "id": "84dc4185-d700-4766-8dca-b44b8e26845f",
        "outputId": "54e8836a-d1a0-446e-d71c-4544ebb2d6d1"
      },
      "outputs": [
        {
          "name": "stdout",
          "output_type": "stream",
          "text": [
            "Hello World\n"
          ]
        }
      ],
      "source": [
        "print(\"Hello World\")"
      ]
    },
    {
      "cell_type": "code",
      "execution_count": 7,
      "id": "fadf09ba-5413-4c72-83db-8a3c2de35b22",
      "metadata": {
        "colab": {
          "base_uri": "https://localhost:8080/"
        },
        "id": "fadf09ba-5413-4c72-83db-8a3c2de35b22",
        "outputId": "4cfc8515-04f8-434b-f87c-089f3f688d9c"
      },
      "outputs": [
        {
          "output_type": "stream",
          "name": "stdout",
          "text": [
            "123\n"
          ]
        }
      ],
      "source": [
        "print(123)"
      ]
    },
    {
      "cell_type": "code",
      "execution_count": 8,
      "id": "70e0568d-9824-4da0-a01a-87f9e138368a",
      "metadata": {
        "colab": {
          "base_uri": "https://localhost:8080/"
        },
        "id": "70e0568d-9824-4da0-a01a-87f9e138368a",
        "outputId": "62b74c15-c846-4e62-c588-382c2b7801ac"
      },
      "outputs": [
        {
          "output_type": "stream",
          "name": "stdout",
          "text": [
            "Hello World\n"
          ]
        }
      ],
      "source": [
        "print('Hello World')"
      ]
    },
    {
      "cell_type": "code",
      "execution_count": 9,
      "id": "83bd21cc-31b4-4b4d-a73c-dcd7af68f217",
      "metadata": {
        "colab": {
          "base_uri": "https://localhost:8080/"
        },
        "id": "83bd21cc-31b4-4b4d-a73c-dcd7af68f217",
        "outputId": "2f0562da-1579-4cfd-933e-416637a6c208"
      },
      "outputs": [
        {
          "output_type": "stream",
          "name": "stdout",
          "text": [
            "My age is: 32\n"
          ]
        }
      ],
      "source": [
        "age=32\n",
        "print(\"My age is:\",age)"
      ]
    },
    {
      "cell_type": "code",
      "execution_count": 11,
      "id": "e250b48e-4c39-488a-aec0-ea4ff54ba69b",
      "metadata": {
        "colab": {
          "base_uri": "https://localhost:8080/"
        },
        "id": "e250b48e-4c39-488a-aec0-ea4ff54ba69b",
        "outputId": "4016856b-bcbf-44c0-e10c-680d5fe64b26"
      },
      "outputs": [
        {
          "output_type": "stream",
          "name": "stdout",
          "text": [
            "My age is: 32\n"
          ]
        }
      ],
      "source": [
        "##  f string\n",
        "print(f\"My age is: {age}\")"
      ]
    },
    {
      "cell_type": "code",
      "execution_count": 10,
      "id": "6ff6137c-f76c-40fb-ac7a-9e0759df6c71",
      "metadata": {
        "colab": {
          "base_uri": "https://localhost:8080/"
        },
        "id": "6ff6137c-f76c-40fb-ac7a-9e0759df6c71",
        "outputId": "c7a94a40-dbdc-44a8-e141-a96fe4b12316"
      },
      "outputs": [
        {
          "output_type": "stream",
          "name": "stdout",
          "text": [
            "My name is Krish and age is 32\n"
          ]
        }
      ],
      "source": [
        "## format()\n",
        "name=\"Krish\"\n",
        "age=32\n",
        "print(\"My name is {} and age is {}\".format(name,age))"
      ]
    },
    {
      "cell_type": "code",
      "execution_count": 12,
      "id": "bd510f5a-3e80-413d-866b-bdc8d24987c8",
      "metadata": {
        "colab": {
          "base_uri": "https://localhost:8080/"
        },
        "id": "bd510f5a-3e80-413d-866b-bdc8d24987c8",
        "outputId": "64118b29-054b-422c-b855-5708c2f18ac8"
      },
      "outputs": [
        {
          "output_type": "stream",
          "name": "stdout",
          "text": [
            "My name is 32 and age is Krish\n"
          ]
        }
      ],
      "source": [
        "print(\"My name is {} and age is {}\".format(age,name))"
      ]
    },
    {
      "cell_type": "code",
      "execution_count": 13,
      "id": "a4b07305-78e5-4c64-901f-2ed2f29be593",
      "metadata": {
        "colab": {
          "base_uri": "https://localhost:8080/"
        },
        "id": "a4b07305-78e5-4c64-901f-2ed2f29be593",
        "outputId": "8e66c4b2-030f-45af-f9b5-07fa0773b31b"
      },
      "outputs": [
        {
          "output_type": "stream",
          "name": "stdout",
          "text": [
            "My name is Krish and age is 32\n"
          ]
        }
      ],
      "source": [
        "##placeholder\n",
        "print(\"My name is {firstname} and age is {firstage}\".format(firstage=age,firstname=name))"
      ]
    },
    {
      "cell_type": "code",
      "execution_count": 14,
      "id": "9eb9c60d-dcfc-4d3a-919c-c6e5b83298a1",
      "metadata": {
        "colab": {
          "base_uri": "https://localhost:8080/",
          "height": 35
        },
        "id": "9eb9c60d-dcfc-4d3a-919c-c6e5b83298a1",
        "outputId": "a1c4cdec-0748-4eba-8cb6-dcdd00f57672"
      },
      "outputs": [
        {
          "output_type": "execute_result",
          "data": {
            "text/plain": [
              "' My age is 32 and i have completed: my degree of BE with the name of Krish Naik'"
            ],
            "application/vnd.google.colaboratory.intrinsic+json": {
              "type": "string"
            }
          },
          "metadata": {},
          "execution_count": 14
        }
      ],
      "source": [
        "name=\"Krish Naik\"\n",
        "age=32\n",
        "degree=\"BE\"\n",
        "\n",
        "\" My age is 32 and i have completed: my degree of BE with the name of Krish Naik\""
      ]
    },
    {
      "cell_type": "code",
      "execution_count": 15,
      "id": "56690822-9b0b-43b0-9956-2347334c7fdd",
      "metadata": {
        "colab": {
          "base_uri": "https://localhost:8080/"
        },
        "id": "56690822-9b0b-43b0-9956-2347334c7fdd",
        "outputId": "08fb81c2-ba55-42a5-a377-f62507720263"
      },
      "outputs": [
        {
          "output_type": "stream",
          "name": "stdout",
          "text": [
            "My age is 32 and i have completed: my degree BE with the name of Krish Naik\n"
          ]
        }
      ],
      "source": [
        "print(\"My age is {} and i have completed: my degree {} with the name of {}\".format(age,degree,name))\n"
      ]
    },
    {
      "cell_type": "code",
      "execution_count": 16,
      "id": "e140e3e8-bfe5-4514-9ece-7649f5aac0ff",
      "metadata": {
        "colab": {
          "base_uri": "https://localhost:8080/"
        },
        "id": "e140e3e8-bfe5-4514-9ece-7649f5aac0ff",
        "outputId": "c0fcc088-c18e-4f02-bbfb-f751d6c94c2d"
      },
      "outputs": [
        {
          "output_type": "stream",
          "name": "stdout",
          "text": [
            "My age is 32 and I have completed: my degree of BE with the name of Krish Naik\n"
          ]
        }
      ],
      "source": [
        "print(f\"My age is {age} and I have completed: my degree of {degree} with the name of {name}\")\n"
      ]
    },
    {
      "cell_type": "markdown",
      "id": "51339415-4160-4246-af5b-55fe111b0551",
      "metadata": {
        "id": "51339415-4160-4246-af5b-55fe111b0551"
      },
      "source": [
        "## Control Flow\n",
        "### Decision Making statements\n",
        "   * It is kind of making decision during occurred situation of program execution and action can be taken according to specified conditions.\n",
        "   * Structure of decision making evaluate several expressions that provide True or False as a result.\n",
        "   * It is up to you to decide which type of action want to take and execute the statements based upon True and False.\n",
        "   \n",
        "**These are several topics of decision making which going to be discussed below:**\n",
        "   1. **if**\n",
        "   2. **if else** \n",
        "   3. **if elif else**\n",
        "   4. **Nested if**\n",
        "   5. **Single Statement Suites**"
      ]
    },
    {
      "cell_type": "code",
      "execution_count": 17,
      "id": "21fa06d5-2659-49e9-8c6c-0e1a76cc573f",
      "metadata": {
        "colab": {
          "base_uri": "https://localhost:8080/"
        },
        "id": "21fa06d5-2659-49e9-8c6c-0e1a76cc573f",
        "outputId": "0a87ebc0-63ee-4cdb-8993-75693c876721"
      },
      "outputs": [
        {
          "output_type": "stream",
          "name": "stdout",
          "text": [
            "You are eligible to vote\n"
          ]
        }
      ],
      "source": [
        "## If Statements\n",
        "age=18\n",
        "if age>=18:\n",
        "    print(\"You are eligible to vote\")\n",
        "    "
      ]
    },
    {
      "cell_type": "code",
      "execution_count": 18,
      "id": "8dcd857e-ce45-4935-b80f-45b1ee62803b",
      "metadata": {
        "colab": {
          "base_uri": "https://localhost:8080/"
        },
        "id": "8dcd857e-ce45-4935-b80f-45b1ee62803b",
        "outputId": "67355002-ee00-4f34-fef8-266f5fe42289"
      },
      "outputs": [
        {
          "output_type": "stream",
          "name": "stdout",
          "text": [
            "You are not eligible to vote\n"
          ]
        }
      ],
      "source": [
        "## If Statements\n",
        "age=17\n",
        "if age<18:\n",
        "    print(\"You are not eligible to vote\")"
      ]
    },
    {
      "cell_type": "code",
      "execution_count": 19,
      "id": "c67056d6-a61b-46ec-960c-32e1a8120fbd",
      "metadata": {
        "colab": {
          "base_uri": "https://localhost:8080/"
        },
        "id": "c67056d6-a61b-46ec-960c-32e1a8120fbd",
        "outputId": "89e81dbe-84c4-491f-f64e-97b686dc311b"
      },
      "outputs": [
        {
          "output_type": "execute_result",
          "data": {
            "text/plain": [
              "True"
            ]
          },
          "metadata": {},
          "execution_count": 19
        }
      ],
      "source": [
        "18<=18"
      ]
    },
    {
      "cell_type": "code",
      "execution_count": 20,
      "id": "5e75d089-42f3-4a33-bc87-164ef45746f0",
      "metadata": {
        "colab": {
          "base_uri": "https://localhost:8080/"
        },
        "id": "5e75d089-42f3-4a33-bc87-164ef45746f0",
        "outputId": "bee364d0-3312-4bc0-ff37-8b226a3f622d"
      },
      "outputs": [
        {
          "name": "stdout",
          "output_type": "stream",
          "text": [
            "Enter the nameNaveen\n"
          ]
        }
      ],
      "source": [
        "name=input(\"Enter the name\")"
      ]
    },
    {
      "cell_type": "code",
      "execution_count": 21,
      "id": "3cc379bf-785a-4a16-9c53-1bfb722b2ca1",
      "metadata": {
        "colab": {
          "base_uri": "https://localhost:8080/",
          "height": 35
        },
        "id": "3cc379bf-785a-4a16-9c53-1bfb722b2ca1",
        "outputId": "4a6be8c5-8289-4230-9de8-aa441ab6a66f"
      },
      "outputs": [
        {
          "output_type": "execute_result",
          "data": {
            "text/plain": [
              "'Naveen'"
            ],
            "application/vnd.google.colaboratory.intrinsic+json": {
              "type": "string"
            }
          },
          "metadata": {},
          "execution_count": 21
        }
      ],
      "source": [
        "name"
      ]
    },
    {
      "cell_type": "code",
      "execution_count": 22,
      "id": "50bd3a20-8e98-4e26-afa0-e995189bdb7d",
      "metadata": {
        "colab": {
          "base_uri": "https://localhost:8080/"
        },
        "id": "50bd3a20-8e98-4e26-afa0-e995189bdb7d",
        "outputId": "9267f8d5-3596-4515-d91c-0778d1d1f010"
      },
      "outputs": [
        {
          "name": "stdout",
          "output_type": "stream",
          "text": [
            "Enter your age18\n"
          ]
        }
      ],
      "source": [
        "age=int(input(\"Enter your age\"))"
      ]
    },
    {
      "cell_type": "code",
      "execution_count": 23,
      "id": "e29d6b6c-dc90-4193-a6ab-23440487e092",
      "metadata": {
        "colab": {
          "base_uri": "https://localhost:8080/"
        },
        "id": "e29d6b6c-dc90-4193-a6ab-23440487e092",
        "outputId": "f4e861df-2480-4610-fa8b-7da4d2bc81e3"
      },
      "outputs": [
        {
          "output_type": "execute_result",
          "data": {
            "text/plain": [
              "int"
            ]
          },
          "metadata": {},
          "execution_count": 23
        }
      ],
      "source": [
        "type(age)"
      ]
    },
    {
      "cell_type": "code",
      "execution_count": 24,
      "id": "c9f25139-0ed4-4f6a-b65b-42574870029a",
      "metadata": {
        "id": "c9f25139-0ed4-4f6a-b65b-42574870029a"
      },
      "outputs": [],
      "source": [
        "##Task\n",
        "## Take a input of age\n",
        "## check whether age >=18 and age<=45\n",
        "## display a message you are young blood"
      ]
    },
    {
      "cell_type": "code",
      "execution_count": 25,
      "id": "e3e2bf14-d052-4440-a1a6-ca220498c7f2",
      "metadata": {
        "colab": {
          "base_uri": "https://localhost:8080/"
        },
        "id": "e3e2bf14-d052-4440-a1a6-ca220498c7f2",
        "outputId": "7e2cd8d2-2991-430f-f608-34be714a55ec"
      },
      "outputs": [
        {
          "output_type": "execute_result",
          "data": {
            "text/plain": [
              "False"
            ]
          },
          "metadata": {},
          "execution_count": 25
        }
      ],
      "source": [
        "True and False"
      ]
    },
    {
      "cell_type": "code",
      "execution_count": 26,
      "id": "6dbd8004-ba80-4771-b47f-cef36461615b",
      "metadata": {
        "colab": {
          "base_uri": "https://localhost:8080/"
        },
        "id": "6dbd8004-ba80-4771-b47f-cef36461615b",
        "outputId": "7b4aaea6-7c52-4458-c7c5-1662cdb346bc"
      },
      "outputs": [
        {
          "output_type": "stream",
          "name": "stdout",
          "text": [
            "Enter the age18\n",
            "You are young blood\n"
          ]
        }
      ],
      "source": [
        "age=int(input(\"Enter the age\"))\n",
        "if  age>=18 and age <=45:\n",
        "    print(\"You are young blood\")"
      ]
    },
    {
      "cell_type": "code",
      "execution_count": 27,
      "id": "ce0d69b2-f519-4010-800e-8c14fbebb4d0",
      "metadata": {
        "colab": {
          "base_uri": "https://localhost:8080/"
        },
        "id": "ce0d69b2-f519-4010-800e-8c14fbebb4d0",
        "outputId": "5b591989-860e-4081-ea6e-dbf4eca37852"
      },
      "outputs": [
        {
          "output_type": "execute_result",
          "data": {
            "text/plain": [
              "True"
            ]
          },
          "metadata": {},
          "execution_count": 27
        }
      ],
      "source": [
        "22>=18 and 22<=45"
      ]
    },
    {
      "cell_type": "code",
      "execution_count": 28,
      "id": "65bb2146-3b16-4d0c-8314-73c2a5d3552d",
      "metadata": {
        "colab": {
          "base_uri": "https://localhost:8080/"
        },
        "id": "65bb2146-3b16-4d0c-8314-73c2a5d3552d",
        "outputId": "267d5c57-61dd-4133-85b7-97d300a1aeff"
      },
      "outputs": [
        {
          "output_type": "execute_result",
          "data": {
            "text/plain": [
              "True"
            ]
          },
          "metadata": {},
          "execution_count": 28
        }
      ],
      "source": [
        "22<=42"
      ]
    },
    {
      "cell_type": "code",
      "execution_count": 29,
      "id": "283f842c-24ed-4ded-ab4c-b0108d93df83",
      "metadata": {
        "colab": {
          "base_uri": "https://localhost:8080/"
        },
        "id": "283f842c-24ed-4ded-ab4c-b0108d93df83",
        "outputId": "ffc4ee25-6827-4eef-82b9-d55150742d32"
      },
      "outputs": [
        {
          "output_type": "stream",
          "name": "stdout",
          "text": [
            "Enter the age19\n",
            "You are young blood\n"
          ]
        }
      ],
      "source": [
        "age=int(input(\"Enter the age\"))\n",
        "if  age>=18 and age <=45:\n",
        "    print(\"You are young blood\")"
      ]
    },
    {
      "cell_type": "code",
      "execution_count": 30,
      "id": "eb3a4bfb-54cb-400e-88ee-c5deca913146",
      "metadata": {
        "colab": {
          "base_uri": "https://localhost:8080/"
        },
        "id": "eb3a4bfb-54cb-400e-88ee-c5deca913146",
        "outputId": "49fff292-2118-4e28-8acd-d61e931b721e"
      },
      "outputs": [
        {
          "output_type": "stream",
          "name": "stdout",
          "text": [
            "Enter the age18\n",
            "You are young blood\n"
          ]
        }
      ],
      "source": [
        "## if else satetements\n",
        "age=int(input(\"Enter the age\"))\n",
        "if  age>=18 and age <=45:\n",
        "    print(\"You are young blood\")\n",
        "else:\n",
        "    print(\"Thank you your we will let you know\")"
      ]
    },
    {
      "cell_type": "code",
      "execution_count": 31,
      "id": "de1c96e8-f315-4fab-a051-03e0a50384a0",
      "metadata": {
        "id": "de1c96e8-f315-4fab-a051-03e0a50384a0"
      },
      "outputs": [],
      "source": [
        "## mall - input the product price\n",
        "## product >1000 rs 20% off\n",
        "## print the product price after removing the discount\n",
        "## product <=1000 rs 30% off\n",
        "## print the product price after removing the discount\n"
      ]
    },
    {
      "cell_type": "code",
      "execution_count": 32,
      "id": "cae3f380-2f96-4d67-9f4b-0871f59fc917",
      "metadata": {
        "colab": {
          "base_uri": "https://localhost:8080/"
        },
        "id": "cae3f380-2f96-4d67-9f4b-0871f59fc917",
        "outputId": "f0d134f1-55ce-45b1-8e5d-864b5c8793a9"
      },
      "outputs": [
        {
          "output_type": "stream",
          "name": "stdout",
          "text": [
            "Enter the price9000\n",
            "The price of the product is 7200.0\n"
          ]
        }
      ],
      "source": [
        "product_price=int(input(\"Enter the price\"))\n",
        "if product_price>1000:\n",
        "    print(\"The price of the product is {}\".format(product_price*0.8))\n",
        "else:\n",
        "    print(\"The price of the product is {}\".format(product_price*0.7))"
      ]
    },
    {
      "cell_type": "code",
      "execution_count": 33,
      "id": "d2959de0-ce8b-491f-8e5a-d269f4a86e64",
      "metadata": {
        "colab": {
          "base_uri": "https://localhost:8080/"
        },
        "id": "d2959de0-ce8b-491f-8e5a-d269f4a86e64",
        "outputId": "cf8a95a2-f2d2-45d0-af0a-43e43ac8770d"
      },
      "outputs": [
        {
          "output_type": "execute_result",
          "data": {
            "text/plain": [
              "1000"
            ]
          },
          "metadata": {},
          "execution_count": 33
        }
      ],
      "source": [
        "int((20/100)*5000)"
      ]
    },
    {
      "cell_type": "code",
      "execution_count": 34,
      "id": "f28759c4-7d53-4277-8382-5f84405640cf",
      "metadata": {
        "colab": {
          "base_uri": "https://localhost:8080/"
        },
        "id": "f28759c4-7d53-4277-8382-5f84405640cf",
        "outputId": "33a92a4c-0f82-42be-ecba-1d34dc1fc9e6"
      },
      "outputs": [
        {
          "output_type": "stream",
          "name": "stdout",
          "text": [
            "Enter the price500\n",
            "The price of the product is 350.0\n"
          ]
        }
      ],
      "source": [
        "product_price=int(input(\"Enter the price\"))\n",
        "if product_price>1000:\n",
        "    print(f\"The price of the product is {product_price*0.8}\")\n",
        "else:\n",
        "    print(\"The price of the product is {}\".format(product_price*0.7))"
      ]
    },
    {
      "cell_type": "code",
      "execution_count": 35,
      "id": "566ad314-b292-47df-bac7-e5b8b4b9f2b3",
      "metadata": {
        "id": "566ad314-b292-47df-bac7-e5b8b4b9f2b3"
      },
      "outputs": [],
      "source": [
        "## mall - input the product price\n",
        "## product >3000 rs 20% off\n",
        "## price is ==4000 you get a trip to Goa\n",
        "## print the product price after removing the discount\n",
        "## product >=2000 rs and <=3000 30% off\n",
        "## print the product price after removing the discount\n",
        "## price ==2999  u will get adiitional gift\n",
        "## product 100 rs and <=2000 40% off\n",
        "## print the product price after removing the discount"
      ]
    },
    {
      "cell_type": "code",
      "execution_count": 36,
      "id": "f5a76f5b-2a4a-4e21-ad95-c981b2ce03d1",
      "metadata": {
        "colab": {
          "base_uri": "https://localhost:8080/"
        },
        "id": "f5a76f5b-2a4a-4e21-ad95-c981b2ce03d1",
        "outputId": "1f788b38-23ad-4f8a-a13d-9cf192e7dca0"
      },
      "outputs": [
        {
          "output_type": "stream",
          "name": "stdout",
          "text": [
            "Enter the price4000\n",
            "Congratulations you get a Goa Trip\n",
            "The price of the product is 3200.0\n"
          ]
        }
      ],
      "source": [
        "product_price=int(input(\"Enter the price\"))\n",
        "if product_price>3000:\n",
        "    if product_price==4000:\n",
        "        print(\"Congratulations you get a Goa Trip\")\n",
        "    print(f\"The price of the product is {product_price*0.8}\")\n",
        "elif product_price>=2000 and product_price<=3000:\n",
        "    if product_price==2999:\n",
        "        print(\"Congratulations you get an additional gift\")\n",
        "    print(f\"The price of the product is {product_price*0.7}\")\n",
        "elif product_price>=100 and product_price<2000:\n",
        "    print(f\"The price of the product is {product_price*0.6}\")\n",
        "else:\n",
        "    print(\"Lets drink tea\")\n",
        "    print(\"I will also be there\")\n",
        "    "
      ]
    },
    {
      "cell_type": "code",
      "execution_count": 37,
      "id": "fa450496-a013-4a8a-994e-e93ceb5335e9",
      "metadata": {
        "colab": {
          "base_uri": "https://localhost:8080/"
        },
        "id": "fa450496-a013-4a8a-994e-e93ceb5335e9",
        "outputId": "65389771-38d0-4116-dd6f-de2fdfbd75ca"
      },
      "outputs": [
        {
          "output_type": "execute_result",
          "data": {
            "text/plain": [
              "True"
            ]
          },
          "metadata": {},
          "execution_count": 37
        }
      ],
      "source": [
        "#comaprission operator\n",
        "True==True"
      ]
    },
    {
      "cell_type": "code",
      "execution_count": 38,
      "id": "24d70ba3-174c-4ab1-b524-b6fb4c937a3d",
      "metadata": {
        "colab": {
          "base_uri": "https://localhost:8080/"
        },
        "id": "24d70ba3-174c-4ab1-b524-b6fb4c937a3d",
        "outputId": "63c87c18-bc49-4470-f901-abd2fdf414ae"
      },
      "outputs": [
        {
          "output_type": "stream",
          "name": "stdout",
          "text": [
            "Enter the number900\n",
            "Value is less than equal to 999\n"
          ]
        }
      ],
      "source": [
        "## Single statement Suites\n",
        "val=int(input('Enter the number'))\n",
        "if(val<=999):print(\"Value is less than equal to 999\")\n",
        "else:\n",
        "    print(\"Go Home\")"
      ]
    },
    {
      "cell_type": "markdown",
      "id": "38e18955-1f9e-4b5a-9674-16e5602eaf98",
      "metadata": {
        "id": "38e18955-1f9e-4b5a-9674-16e5602eaf98"
      },
      "source": [
        "## Loops statements\n",
        "1. while loop\n",
        "2. for loop\n",
        "3. nested loops\n",
        "4. Loop control(break,continue,pass)"
      ]
    },
    {
      "cell_type": "code",
      "execution_count": 39,
      "id": "5af77a71-ea79-4120-88ba-8fdb5c46382c",
      "metadata": {
        "colab": {
          "base_uri": "https://localhost:8080/"
        },
        "id": "5af77a71-ea79-4120-88ba-8fdb5c46382c",
        "outputId": "deddfe31-6806-4555-a8d9-1e3c51926fb2"
      },
      "outputs": [
        {
          "output_type": "stream",
          "name": "stdout",
          "text": [
            "25\n",
            "26\n",
            "27\n",
            "28\n",
            "29\n",
            "30\n",
            "31\n",
            "32\n",
            "33\n",
            "34\n",
            "35\n",
            "36\n",
            "37\n",
            "38\n",
            "39\n",
            "40\n",
            "41\n",
            "42\n",
            "43\n",
            "44\n",
            "45\n",
            "46\n",
            "47\n",
            "48\n",
            "49\n",
            "50\n",
            "51\n",
            "52\n",
            "53\n",
            "54\n",
            "55\n",
            "56\n",
            "57\n",
            "58\n",
            "59\n",
            "60\n",
            "Its time for retirement\n"
          ]
        }
      ],
      "source": [
        "# while loop while-else\n",
        "joining_age=25\n",
        "while joining_age<=60:\n",
        "    print(joining_age)\n",
        "    joining_age=joining_age+1\n",
        "    \n",
        "else:\n",
        "    print(\"Its time for retirement\")\n",
        "\n"
      ]
    },
    {
      "cell_type": "code",
      "execution_count": 40,
      "id": "3ac6e35d-baec-4eb0-8b90-5ba77de7d4fe",
      "metadata": {
        "colab": {
          "base_uri": "https://localhost:8080/"
        },
        "id": "3ac6e35d-baec-4eb0-8b90-5ba77de7d4fe",
        "outputId": "e441920d-5b2b-46b2-bc68-01d512c1bcfb"
      },
      "outputs": [
        {
          "output_type": "stream",
          "name": "stdout",
          "text": [
            "1000\n",
            "900\n",
            "800\n",
            "700\n",
            "600\n",
            "500\n",
            "400\n",
            "300\n",
            "200\n",
            "100\n",
            "Put more money bank people\n",
            "Hello All\n"
          ]
        }
      ],
      "source": [
        "### Atm machine with 1000 rs\n",
        "total_amount=1000\n",
        "while total_amount!=0:\n",
        "    print(total_amount)\n",
        "    total_amount=total_amount-100\n",
        "else:\n",
        "    print(\"Put more money bank people\")\n",
        "    \n",
        "print(\"Hello All\")\n",
        "    "
      ]
    },
    {
      "cell_type": "markdown",
      "id": "b2a9ea39-c927-4717-b4c6-bbc12da4f82a",
      "metadata": {
        "id": "b2a9ea39-c927-4717-b4c6-bbc12da4f82a"
      },
      "source": [
        "## For Loop"
      ]
    },
    {
      "cell_type": "code",
      "execution_count": 41,
      "id": "be6ed02f-ed0d-4296-905c-26358227e62b",
      "metadata": {
        "id": "be6ed02f-ed0d-4296-905c-26358227e62b"
      },
      "outputs": [],
      "source": [
        "lst=[\"Krish\",1,2,3,4,\"apple\",\"banana\"]"
      ]
    },
    {
      "cell_type": "code",
      "execution_count": 42,
      "id": "6937007c-1411-4ad9-9796-7df9fdf62f55",
      "metadata": {
        "colab": {
          "base_uri": "https://localhost:8080/"
        },
        "id": "6937007c-1411-4ad9-9796-7df9fdf62f55",
        "outputId": "af3fb182-55c6-47a3-cea0-c50f456a5d89"
      },
      "outputs": [
        {
          "output_type": "execute_result",
          "data": {
            "text/plain": [
              "list"
            ]
          },
          "metadata": {},
          "execution_count": 42
        }
      ],
      "source": [
        "type(lst)"
      ]
    },
    {
      "cell_type": "code",
      "execution_count": 43,
      "id": "bc0a3c5d-287b-433f-90f7-63301ca68fe5",
      "metadata": {
        "colab": {
          "base_uri": "https://localhost:8080/"
        },
        "id": "bc0a3c5d-287b-433f-90f7-63301ca68fe5",
        "outputId": "ad8d4525-b012-4823-dce2-6699e8e7392c"
      },
      "outputs": [
        {
          "output_type": "execute_result",
          "data": {
            "text/plain": [
              "4"
            ]
          },
          "metadata": {},
          "execution_count": 43
        }
      ],
      "source": [
        "lst[4]"
      ]
    },
    {
      "cell_type": "code",
      "execution_count": 44,
      "id": "81f419f4-2335-415b-b209-e914865bae85",
      "metadata": {
        "colab": {
          "base_uri": "https://localhost:8080/"
        },
        "id": "81f419f4-2335-415b-b209-e914865bae85",
        "outputId": "ad1773f6-d9b1-48be-e214-90ee4fc4ea79"
      },
      "outputs": [
        {
          "output_type": "execute_result",
          "data": {
            "text/plain": [
              "['Krish', 1, 2, 3, 4, 'apple', 'banana']"
            ]
          },
          "metadata": {},
          "execution_count": 44
        }
      ],
      "source": [
        "lst"
      ]
    },
    {
      "cell_type": "code",
      "execution_count": 45,
      "id": "bea79ecb-8f33-4829-9b78-bb116e7cbfb1",
      "metadata": {
        "colab": {
          "base_uri": "https://localhost:8080/"
        },
        "id": "bea79ecb-8f33-4829-9b78-bb116e7cbfb1",
        "outputId": "01a0053f-5a34-4a3a-892a-01d0439c8317"
      },
      "outputs": [
        {
          "output_type": "stream",
          "name": "stdout",
          "text": [
            "Krish\n",
            "1\n",
            "2\n",
            "3\n",
            "4\n",
            "apple\n",
            "banana\n"
          ]
        }
      ],
      "source": [
        "for x in lst:\n",
        "    print(x)"
      ]
    },
    {
      "cell_type": "code",
      "execution_count": 46,
      "id": "a676b171-a273-499f-89cd-0ba1e5d9882f",
      "metadata": {
        "id": "a676b171-a273-499f-89cd-0ba1e5d9882f"
      },
      "outputs": [],
      "source": [
        "fruits_list = [\"Mango\",\"Cherry\",\"Apple\",\"Papaya\",\"Banana\"]"
      ]
    },
    {
      "cell_type": "code",
      "execution_count": 47,
      "id": "f0d5c558-d765-4ff1-8a65-1229a62445c8",
      "metadata": {
        "colab": {
          "base_uri": "https://localhost:8080/"
        },
        "id": "f0d5c558-d765-4ff1-8a65-1229a62445c8",
        "outputId": "1bc7d52a-a9ae-4609-f875-20b966729a7e"
      },
      "outputs": [
        {
          "output_type": "stream",
          "name": "stdout",
          "text": [
            "Mango\n",
            "Cherry\n",
            "The fruit is cherry\n",
            "Apple\n",
            "Papaya\n",
            "Banana\n"
          ]
        }
      ],
      "source": [
        "for a in fruits_list:\n",
        "    print(a)\n",
        "    if a==\"Cherry\":\n",
        "        print(\"The fruit is cherry\")\n",
        "        "
      ]
    },
    {
      "cell_type": "code",
      "execution_count": 48,
      "id": "f59824fd-26c1-498e-88e9-61a7918ff087",
      "metadata": {
        "colab": {
          "base_uri": "https://localhost:8080/"
        },
        "id": "f59824fd-26c1-498e-88e9-61a7918ff087",
        "outputId": "624b072f-a4ae-4620-9d5e-99a8b4a53288"
      },
      "outputs": [
        {
          "output_type": "stream",
          "name": "stdout",
          "text": [
            "m\n",
            "a\n",
            "n\n",
            "g\n",
            "o\n"
          ]
        }
      ],
      "source": [
        "fruit='mango'\n",
        "for x in fruit:\n",
        "    print(x)"
      ]
    },
    {
      "cell_type": "code",
      "execution_count": 49,
      "id": "ae17b40a-d8b2-4946-b829-665d3b59841a",
      "metadata": {
        "colab": {
          "base_uri": "https://localhost:8080/"
        },
        "id": "ae17b40a-d8b2-4946-b829-665d3b59841a",
        "outputId": "49e6236b-d538-4af7-8989-49e96f973199"
      },
      "outputs": [
        {
          "output_type": "stream",
          "name": "stdout",
          "text": [
            "m\n",
            "a\n",
            "n\n",
            "g\n",
            "o\n"
          ]
        }
      ],
      "source": [
        "fruit='mango'\n",
        "for x in fruit:\n",
        "    print(x)"
      ]
    },
    {
      "cell_type": "code",
      "execution_count": 50,
      "id": "f6b700b0-f87a-421f-b749-c2bff589fd58",
      "metadata": {
        "colab": {
          "base_uri": "https://localhost:8080/",
          "height": 35
        },
        "id": "f6b700b0-f87a-421f-b749-c2bff589fd58",
        "outputId": "440c3857-9c1a-4d54-890a-1bc97841fd2c"
      },
      "outputs": [
        {
          "output_type": "execute_result",
          "data": {
            "text/plain": [
              "'n'"
            ],
            "application/vnd.google.colaboratory.intrinsic+json": {
              "type": "string"
            }
          },
          "metadata": {},
          "execution_count": 50
        }
      ],
      "source": [
        "fruit[2]"
      ]
    },
    {
      "cell_type": "code",
      "execution_count": 51,
      "id": "cdb25811-64ae-472c-9edc-df333e9d9141",
      "metadata": {
        "id": "cdb25811-64ae-472c-9edc-df333e9d9141"
      },
      "outputs": [],
      "source": [
        "###  Nested loops\n",
        "n=7\n",
        "\n"
      ]
    },
    {
      "cell_type": "code",
      "execution_count": 52,
      "id": "a9a34800-2a3e-45de-b2e6-a56754bf5d02",
      "metadata": {
        "colab": {
          "base_uri": "https://localhost:8080/"
        },
        "id": "a9a34800-2a3e-45de-b2e6-a56754bf5d02",
        "outputId": "adf44213-ef3d-4834-c924-5976d3cb1019"
      },
      "outputs": [
        {
          "output_type": "stream",
          "name": "stdout",
          "text": [
            "1\n",
            "2\n",
            "3\n",
            "4\n",
            "5\n",
            "6\n",
            "7\n",
            "8\n",
            "9\n"
          ]
        }
      ],
      "source": [
        "## range\n",
        "for i in range(1,10):\n",
        "    print(i)"
      ]
    },
    {
      "cell_type": "code",
      "execution_count": 53,
      "id": "278a477f-3c86-4d52-813e-33badccc6058",
      "metadata": {
        "colab": {
          "base_uri": "https://localhost:8080/"
        },
        "id": "278a477f-3c86-4d52-813e-33badccc6058",
        "outputId": "b37f3acb-9d08-4eba-a72e-1dd94742c8bf"
      },
      "outputs": [
        {
          "output_type": "stream",
          "name": "stdout",
          "text": [
            "0\n",
            "2\n",
            "4\n",
            "6\n"
          ]
        }
      ],
      "source": [
        "for i in range(0,7,2):\n",
        "    print(i)"
      ]
    },
    {
      "cell_type": "code",
      "execution_count": 54,
      "id": "cd16d3c6-8d2f-4aeb-8fa2-3f863db793fb",
      "metadata": {
        "colab": {
          "base_uri": "https://localhost:8080/"
        },
        "id": "cd16d3c6-8d2f-4aeb-8fa2-3f863db793fb",
        "outputId": "590fb7a1-2aaa-4575-cf35-7ad24e9d9e2a"
      },
      "outputs": [
        {
          "output_type": "stream",
          "name": "stdout",
          "text": [
            "*\r\n",
            "**\r\n",
            "***\r\n",
            "****\r\n",
            "*****\r\n",
            "******\r\n",
            "*******\r\n"
          ]
        }
      ],
      "source": [
        "## Nested loops\n",
        "n=7\n",
        "\n",
        "for i in range(0,n):\n",
        "    for j in range(0,i+1):\n",
        "        print(\"*\",end=\"\")\n",
        "    print(\"\\r\")"
      ]
    },
    {
      "cell_type": "code",
      "execution_count": 55,
      "id": "3ba5f283-3eb0-407e-a3b1-8a30ec0529e1",
      "metadata": {
        "id": "3ba5f283-3eb0-407e-a3b1-8a30ec0529e1"
      },
      "outputs": [],
      "source": [
        "##Loop controls\n",
        "## Break and continue\n",
        "fruits_list = [\"Mango\",\"Cherry\",\"Apple\",\"Papaya\",\"Banana\"]\n"
      ]
    },
    {
      "cell_type": "code",
      "execution_count": 56,
      "id": "8ac9ff67-6736-4a9b-8a32-09439a52f083",
      "metadata": {
        "colab": {
          "base_uri": "https://localhost:8080/"
        },
        "id": "8ac9ff67-6736-4a9b-8a32-09439a52f083",
        "outputId": "cfae58fd-1d0c-4102-e786-e8c16b4e8032"
      },
      "outputs": [
        {
          "output_type": "stream",
          "name": "stdout",
          "text": [
            "Mango\n",
            "Cherry\n",
            "The fruit is apple\n"
          ]
        }
      ],
      "source": [
        "for i in fruits_list:\n",
        "    if i==\"Apple\":\n",
        "        print(\"The fruit is apple\")\n",
        "        break\n",
        "    print(i)"
      ]
    },
    {
      "cell_type": "code",
      "execution_count": 57,
      "id": "c4da2082-960e-497a-80ee-fe65f9882375",
      "metadata": {
        "colab": {
          "base_uri": "https://localhost:8080/"
        },
        "id": "c4da2082-960e-497a-80ee-fe65f9882375",
        "outputId": "21a19bd5-f71a-4405-f0ff-f22acae6d24c"
      },
      "outputs": [
        {
          "output_type": "stream",
          "name": "stdout",
          "text": [
            "Mango\n",
            "Cherry\n",
            "The fruit is apple\n",
            "Apple\n",
            "Papaya\n",
            "Banana\n"
          ]
        }
      ],
      "source": [
        "for i in fruits_list:\n",
        "    if i==\"Apple\":\n",
        "        print(\"The fruit is apple\")\n",
        "        pass\n",
        "    print(i)"
      ]
    },
    {
      "cell_type": "code",
      "execution_count": 58,
      "id": "d398b369-92ea-49a2-bda0-e0d5cac82d97",
      "metadata": {
        "colab": {
          "base_uri": "https://localhost:8080/"
        },
        "id": "d398b369-92ea-49a2-bda0-e0d5cac82d97",
        "outputId": "46e444b3-1aa0-49dd-8b4c-4c31705847f3"
      },
      "outputs": [
        {
          "output_type": "stream",
          "name": "stdout",
          "text": [
            "Mango\n",
            "Cherry\n",
            "The fruit is apple\n",
            "Papaya\n",
            "Banana\n"
          ]
        }
      ],
      "source": [
        "##continue\n",
        "for i in fruits_list:\n",
        "    if i==\"Apple\":\n",
        "        print(\"The fruit is apple\")\n",
        "        continue\n",
        "    print(i)"
      ]
    },
    {
      "cell_type": "code",
      "execution_count": 58,
      "id": "29f73633-daeb-499f-bfd1-bbe62a35417e",
      "metadata": {
        "id": "29f73633-daeb-499f-bfd1-bbe62a35417e"
      },
      "outputs": [],
      "source": []
    }
  ],
  "metadata": {
    "kernelspec": {
      "display_name": "Python 3 (ipykernel)",
      "language": "python",
      "name": "python3"
    },
    "language_info": {
      "codemirror_mode": {
        "name": "ipython",
        "version": 3
      },
      "file_extension": ".py",
      "mimetype": "text/x-python",
      "name": "python",
      "nbconvert_exporter": "python",
      "pygments_lexer": "ipython3",
      "version": "3.10.8"
    },
    "colab": {
      "provenance": [],
      "include_colab_link": true
    }
  },
  "nbformat": 4,
  "nbformat_minor": 5
}