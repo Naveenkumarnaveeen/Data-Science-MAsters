{
  "cells": [
    {
      "cell_type": "markdown",
      "metadata": {
        "id": "view-in-github",
        "colab_type": "text"
      },
      "source": [
        "<a href=\"https://colab.research.google.com/github/Naveenkumarnaveeen/Data-Science-MAsters/blob/main/Day1_Data_Science_MAsters.ipynb\" target=\"_parent\"><img src=\"https://colab.research.google.com/assets/colab-badge.svg\" alt=\"Open In Colab\"/></a>"
      ]
    },
    {
      "cell_type": "code",
      "execution_count": 1,
      "id": "f1a32916-0b22-4891-9618-8c987c4a57f3",
      "metadata": {
        "id": "f1a32916-0b22-4891-9618-8c987c4a57f3"
      },
      "outputs": [],
      "source": [
        "a=10"
      ]
    },
    {
      "cell_type": "code",
      "execution_count": 2,
      "id": "3cc780eb-77d9-49ff-8f2c-952f6d6762cd",
      "metadata": {
        "colab": {
          "base_uri": "https://localhost:8080/"
        },
        "id": "3cc780eb-77d9-49ff-8f2c-952f6d6762cd",
        "outputId": "c1bd0d3d-2d09-48cb-8094-6362dd2c716b"
      },
      "outputs": [
        {
          "output_type": "execute_result",
          "data": {
            "text/plain": [
              "10"
            ]
          },
          "metadata": {},
          "execution_count": 2
        }
      ],
      "source": [
        "a"
      ]
    },
    {
      "cell_type": "code",
      "execution_count": 3,
      "id": "3eb5e2df-507e-4fcc-970e-51fd94d17523",
      "metadata": {
        "colab": {
          "base_uri": "https://localhost:8080/"
        },
        "id": "3eb5e2df-507e-4fcc-970e-51fd94d17523",
        "outputId": "f01be2a3-499d-4ae8-a71e-5eb1f8489b81"
      },
      "outputs": [
        {
          "output_type": "execute_result",
          "data": {
            "text/plain": [
              "20"
            ]
          },
          "metadata": {},
          "execution_count": 3
        }
      ],
      "source": [
        "## Comments\n",
        "## for single we use ##\n",
        "## this is a function\n",
        "# this is a comment\n",
        "a=20\n",
        "a"
      ]
    },
    {
      "cell_type": "code",
      "execution_count": 4,
      "id": "2389175a-cca1-4a66-acb8-84b6dd4b2801",
      "metadata": {
        "colab": {
          "base_uri": "https://localhost:8080/"
        },
        "id": "2389175a-cca1-4a66-acb8-84b6dd4b2801",
        "outputId": "ff5d8bae-4d72-46a0-f2aa-7aa8a31bf4e3"
      },
      "outputs": [
        {
          "output_type": "execute_result",
          "data": {
            "text/plain": [
              "20"
            ]
          },
          "metadata": {},
          "execution_count": 4
        }
      ],
      "source": [
        "\"\"\"\n",
        "Example of multiline comments\n",
        "hello this is a example of python\n",
        "dsfsdfdfdsf\n",
        "dfsdfsdfsdfdsf\n",
        "dfdsfdsfsdf\n",
        "\"\"\"\n",
        "a=20\n",
        "a"
      ]
    },
    {
      "cell_type": "markdown",
      "id": "71fbfe47-4824-42a6-87a9-7e0c2f71adb3",
      "metadata": {
        "id": "71fbfe47-4824-42a6-87a9-7e0c2f71adb3"
      },
      "source": [
        "# hello\n",
        "## hello1\n",
        "### hello2\n",
        "\n",
        "1. hello guys how are you"
      ]
    },
    {
      "cell_type": "markdown",
      "id": "e473a53e-c6a6-4b07-9f6b-98ef306e47b1",
      "metadata": {
        "id": "e473a53e-c6a6-4b07-9f6b-98ef306e47b1"
      },
      "source": [
        "### Numbers"
      ]
    },
    {
      "cell_type": "code",
      "execution_count": 5,
      "id": "e3d3ec40-acb1-4ff6-a8a9-c0d27c8ffe00",
      "metadata": {
        "colab": {
          "base_uri": "https://localhost:8080/"
        },
        "id": "e3d3ec40-acb1-4ff6-a8a9-c0d27c8ffe00",
        "outputId": "b75117e0-cb8c-408c-c3e8-f99b31c46c3c"
      },
      "outputs": [
        {
          "output_type": "execute_result",
          "data": {
            "text/plain": [
              "4"
            ]
          },
          "metadata": {},
          "execution_count": 5
        }
      ],
      "source": [
        "1+3"
      ]
    },
    {
      "cell_type": "code",
      "execution_count": 6,
      "id": "78a10e2f-7636-45e4-8ea2-1eabce896551",
      "metadata": {
        "colab": {
          "base_uri": "https://localhost:8080/"
        },
        "id": "78a10e2f-7636-45e4-8ea2-1eabce896551",
        "outputId": "db968d3b-c9dd-447e-deb8-fb0674a67b79"
      },
      "outputs": [
        {
          "output_type": "stream",
          "name": "stdout",
          "text": [
            "4\n"
          ]
        }
      ],
      "source": [
        "print(1+3)"
      ]
    },
    {
      "cell_type": "code",
      "execution_count": 7,
      "id": "beb5cced-2e48-49a7-a6d3-8b8f35670b73",
      "metadata": {
        "colab": {
          "base_uri": "https://localhost:8080/"
        },
        "id": "beb5cced-2e48-49a7-a6d3-8b8f35670b73",
        "outputId": "a7748823-29cb-41e2-8b4d-dfbedca6def4"
      },
      "outputs": [
        {
          "output_type": "stream",
          "name": "stdout",
          "text": [
            "5\n"
          ]
        }
      ],
      "source": [
        "a=5\n",
        "print(a)"
      ]
    },
    {
      "cell_type": "code",
      "execution_count": 8,
      "id": "caca7433-147f-48fa-ae22-6d3af37ca424",
      "metadata": {
        "colab": {
          "base_uri": "https://localhost:8080/"
        },
        "id": "caca7433-147f-48fa-ae22-6d3af37ca424",
        "outputId": "ca567cc5-9c99-4b02-cdfd-11ad49387c1a"
      },
      "outputs": [
        {
          "output_type": "stream",
          "name": "stdout",
          "text": [
            "hello world my name is krish i work in \n",
            " PW skills and ineuron\n"
          ]
        }
      ],
      "source": [
        "print(\"hello world my name is krish i work in \\n PW skills and ineuron\")"
      ]
    },
    {
      "cell_type": "markdown",
      "id": "f4d82d79-aed7-49b4-90f8-e08a332d381a",
      "metadata": {
        "id": "f4d82d79-aed7-49b4-90f8-e08a332d381a"
      },
      "source": [
        "## Variables Assignment"
      ]
    },
    {
      "cell_type": "code",
      "execution_count": 9,
      "id": "971ea0ae-5a22-46c6-843c-4352b7d9f36b",
      "metadata": {
        "id": "971ea0ae-5a22-46c6-843c-4352b7d9f36b"
      },
      "outputs": [],
      "source": [
        "name=\"Krish\"\n",
        "company=\"PWskills and ineuron\""
      ]
    },
    {
      "cell_type": "code",
      "execution_count": 10,
      "id": "d3ed327b-2923-488b-8fe8-af3270872b29",
      "metadata": {
        "colab": {
          "base_uri": "https://localhost:8080/"
        },
        "id": "d3ed327b-2923-488b-8fe8-af3270872b29",
        "outputId": "4afa7913-9cff-4a45-c4d0-9c8096a2b09e"
      },
      "outputs": [
        {
          "output_type": "execute_result",
          "data": {
            "text/plain": [
              "str"
            ]
          },
          "metadata": {},
          "execution_count": 10
        }
      ],
      "source": [
        "type(\"sfdfdfsdf\")"
      ]
    },
    {
      "cell_type": "code",
      "execution_count": 11,
      "id": "e5c73eba-4909-4c22-b901-562e068e4e69",
      "metadata": {
        "colab": {
          "base_uri": "https://localhost:8080/"
        },
        "id": "e5c73eba-4909-4c22-b901-562e068e4e69",
        "outputId": "b3bb760e-e872-46dd-b373-3caa2ee3bc3a"
      },
      "outputs": [
        {
          "output_type": "execute_result",
          "data": {
            "text/plain": [
              "str"
            ]
          },
          "metadata": {},
          "execution_count": 11
        }
      ],
      "source": [
        "type(name)"
      ]
    },
    {
      "cell_type": "code",
      "execution_count": 11,
      "id": "605bb551-5105-42f7-969c-2a4bca0997c2",
      "metadata": {
        "id": "605bb551-5105-42f7-969c-2a4bca0997c2"
      },
      "outputs": [],
      "source": []
    },
    {
      "cell_type": "code",
      "execution_count": 12,
      "id": "ec3b5960-7990-41ae-b562-10cca4727062",
      "metadata": {
        "id": "ec3b5960-7990-41ae-b562-10cca4727062"
      },
      "outputs": [],
      "source": [
        "name=\"Bala\""
      ]
    },
    {
      "cell_type": "code",
      "execution_count": 13,
      "id": "f3eaf7f2-3cea-488e-a9d8-7dbeb0bce03e",
      "metadata": {
        "colab": {
          "base_uri": "https://localhost:8080/",
          "height": 35
        },
        "id": "f3eaf7f2-3cea-488e-a9d8-7dbeb0bce03e",
        "outputId": "ac1a20eb-fe83-4f8a-d89b-d3105acb36f0"
      },
      "outputs": [
        {
          "output_type": "execute_result",
          "data": {
            "text/plain": [
              "'Bala'"
            ],
            "application/vnd.google.colaboratory.intrinsic+json": {
              "type": "string"
            }
          },
          "metadata": {},
          "execution_count": 13
        }
      ],
      "source": [
        "name"
      ]
    },
    {
      "cell_type": "code",
      "execution_count": 14,
      "id": "e42fc652-5930-4bd5-829f-eea22a553c42",
      "metadata": {
        "colab": {
          "base_uri": "https://localhost:8080/",
          "height": 35
        },
        "id": "e42fc652-5930-4bd5-829f-eea22a553c42",
        "outputId": "ddd2dcfc-1846-44be-fcca-3ec70980b54f"
      },
      "outputs": [
        {
          "output_type": "execute_result",
          "data": {
            "text/plain": [
              "'PWskills and ineuron'"
            ],
            "application/vnd.google.colaboratory.intrinsic+json": {
              "type": "string"
            }
          },
          "metadata": {},
          "execution_count": 14
        }
      ],
      "source": [
        "company"
      ]
    },
    {
      "cell_type": "code",
      "execution_count": 15,
      "id": "127ab07b-7788-44cd-81a4-1dc95890f0b9",
      "metadata": {
        "id": "127ab07b-7788-44cd-81a4-1dc95890f0b9"
      },
      "outputs": [],
      "source": [
        "number=10"
      ]
    },
    {
      "cell_type": "code",
      "execution_count": 16,
      "id": "55cc9205-c02b-4cd1-8b94-52e8228c3488",
      "metadata": {
        "colab": {
          "base_uri": "https://localhost:8080/"
        },
        "id": "55cc9205-c02b-4cd1-8b94-52e8228c3488",
        "outputId": "a5845b79-0472-4ebf-d095-7d5e9e701c56"
      },
      "outputs": [
        {
          "output_type": "execute_result",
          "data": {
            "text/plain": [
              "int"
            ]
          },
          "metadata": {},
          "execution_count": 16
        }
      ],
      "source": [
        "type(number)"
      ]
    },
    {
      "cell_type": "code",
      "execution_count": 17,
      "id": "e39cea8f-8787-4204-ba53-49d4c85d553c",
      "metadata": {
        "colab": {
          "base_uri": "https://localhost:8080/"
        },
        "id": "e39cea8f-8787-4204-ba53-49d4c85d553c",
        "outputId": "c76c5d7f-b574-4733-a7be-9d77a9e385ac"
      },
      "outputs": [
        {
          "output_type": "execute_result",
          "data": {
            "text/plain": [
              "20"
            ]
          },
          "metadata": {},
          "execution_count": 17
        }
      ],
      "source": [
        "number=20\n",
        "number"
      ]
    },
    {
      "cell_type": "code",
      "execution_count": 18,
      "id": "8e39ba66-b14d-48f1-80e9-db85a7c16ad5",
      "metadata": {
        "id": "8e39ba66-b14d-48f1-80e9-db85a7c16ad5"
      },
      "outputs": [],
      "source": [
        "decimal_num=2.5"
      ]
    },
    {
      "cell_type": "code",
      "execution_count": 19,
      "id": "296f5308-8cc5-4309-922b-926178aa5380",
      "metadata": {
        "colab": {
          "base_uri": "https://localhost:8080/"
        },
        "id": "296f5308-8cc5-4309-922b-926178aa5380",
        "outputId": "5d629d31-3aa9-409f-be6b-57119ea1d450"
      },
      "outputs": [
        {
          "output_type": "execute_result",
          "data": {
            "text/plain": [
              "2.5"
            ]
          },
          "metadata": {},
          "execution_count": 19
        }
      ],
      "source": [
        "decimal_num"
      ]
    },
    {
      "cell_type": "code",
      "execution_count": 20,
      "id": "1e8f96c4-c830-460e-98f0-384414a277f3",
      "metadata": {
        "colab": {
          "base_uri": "https://localhost:8080/"
        },
        "id": "1e8f96c4-c830-460e-98f0-384414a277f3",
        "outputId": "b21628c5-51b1-492b-f995-8cb0ea7b4bc6"
      },
      "outputs": [
        {
          "output_type": "execute_result",
          "data": {
            "text/plain": [
              "float"
            ]
          },
          "metadata": {},
          "execution_count": 20
        }
      ],
      "source": [
        "type(decimal_num)"
      ]
    },
    {
      "cell_type": "code",
      "execution_count": 21,
      "id": "eb82eef2-1ab0-4e4d-891c-118db4ab1253",
      "metadata": {
        "colab": {
          "base_uri": "https://localhost:8080/"
        },
        "id": "eb82eef2-1ab0-4e4d-891c-118db4ab1253",
        "outputId": "8a391561-752c-432f-83e9-62232464edeb"
      },
      "outputs": [
        {
          "output_type": "execute_result",
          "data": {
            "text/plain": [
              "str"
            ]
          },
          "metadata": {},
          "execution_count": 21
        }
      ],
      "source": [
        "type(\"hello\")"
      ]
    },
    {
      "cell_type": "code",
      "execution_count": 22,
      "id": "83faa0d6-e219-4ec8-a1d8-6f21bc06af38",
      "metadata": {
        "colab": {
          "base_uri": "https://localhost:8080/"
        },
        "id": "83faa0d6-e219-4ec8-a1d8-6f21bc06af38",
        "outputId": "0ddbaa47-d0ec-47ac-fa92-f501c5103a78"
      },
      "outputs": [
        {
          "output_type": "execute_result",
          "data": {
            "text/plain": [
              "complex"
            ]
          },
          "metadata": {},
          "execution_count": 22
        }
      ],
      "source": [
        "type(1+2j)"
      ]
    },
    {
      "cell_type": "code",
      "execution_count": 23,
      "id": "6b3ebbb0-abf7-4a6f-8ef1-7f2c7dd60e2c",
      "metadata": {
        "colab": {
          "base_uri": "https://localhost:8080/"
        },
        "id": "6b3ebbb0-abf7-4a6f-8ef1-7f2c7dd60e2c",
        "outputId": "6c57ac03-ebb5-4680-825a-021b2208c63c"
      },
      "outputs": [
        {
          "output_type": "stream",
          "name": "stdout",
          "text": [
            "hello\n",
            "hello\n"
          ]
        }
      ],
      "source": [
        "print('hello')\n",
        "print(\"hello\")"
      ]
    },
    {
      "cell_type": "code",
      "execution_count": 24,
      "id": "d1544044-b8db-4445-93ad-15033b400802",
      "metadata": {
        "colab": {
          "base_uri": "https://localhost:8080/",
          "height": 131
        },
        "id": "d1544044-b8db-4445-93ad-15033b400802",
        "outputId": "eb93e352-17fd-400e-f7fe-98429e0ea617"
      },
      "outputs": [
        {
          "output_type": "error",
          "ename": "SyntaxError",
          "evalue": "ignored",
          "traceback": [
            "\u001b[0;36m  File \u001b[0;32m\"<ipython-input-24-4c9e9363cd38>\"\u001b[0;36m, line \u001b[0;32m3\u001b[0m\n\u001b[0;31m    1a\u001b[0m\n\u001b[0m     ^\u001b[0m\n\u001b[0;31mSyntaxError\u001b[0m\u001b[0;31m:\u001b[0m invalid syntax\n"
          ]
        }
      ],
      "source": [
        "##bad way\n",
        "## dont start the variable name with numbers\n",
        "1a\n",
        "3answer"
      ]
    },
    {
      "cell_type": "code",
      "execution_count": 25,
      "id": "9eda26fa-89ad-4245-ae05-4a9c5882ea52",
      "metadata": {
        "id": "9eda26fa-89ad-4245-ae05-4a9c5882ea52"
      },
      "outputs": [],
      "source": [
        "number1=23"
      ]
    },
    {
      "cell_type": "code",
      "execution_count": 26,
      "id": "932358cd-5192-45ef-ab65-377df8349d0c",
      "metadata": {
        "colab": {
          "base_uri": "https://localhost:8080/"
        },
        "id": "932358cd-5192-45ef-ab65-377df8349d0c",
        "outputId": "88a2c987-d798-4246-b16c-53e17b5701e4"
      },
      "outputs": [
        {
          "output_type": "stream",
          "name": "stdout",
          "text": [
            "ineuron\n",
            "PWSKILLS\n"
          ]
        }
      ],
      "source": [
        "## Variables are case senssitive\n",
        "company='ineuron'\n",
        "Company='PWSKILLS'\n",
        "print(company)\n",
        "print(Company)"
      ]
    },
    {
      "cell_type": "code",
      "execution_count": 27,
      "id": "b6d6fb21-beb8-4cff-9626-a74b9c4c09c9",
      "metadata": {
        "colab": {
          "base_uri": "https://localhost:8080/",
          "height": 35
        },
        "id": "b6d6fb21-beb8-4cff-9626-a74b9c4c09c9",
        "outputId": "2c4ed22c-0b02-428f-f1d8-f719458ed2e1"
      },
      "outputs": [
        {
          "output_type": "execute_result",
          "data": {
            "text/plain": [
              "'\\nint,float,len,complex,bool,str,return,yield\\n'"
            ],
            "application/vnd.google.colaboratory.intrinsic+json": {
              "type": "string"
            }
          },
          "metadata": {},
          "execution_count": 27
        }
      ],
      "source": [
        "## Reserved keywords\n",
        "'''\n",
        "int,float,len,complex,bool,str,return,yield\n",
        "'''"
      ]
    },
    {
      "cell_type": "code",
      "execution_count": 28,
      "id": "6a734953-17b8-4196-90de-4b7616332766",
      "metadata": {
        "id": "6a734953-17b8-4196-90de-4b7616332766"
      },
      "outputs": [],
      "source": [
        "float=32"
      ]
    },
    {
      "cell_type": "code",
      "execution_count": 29,
      "id": "8a2b871d-6451-4919-9a47-f8c858b35267",
      "metadata": {
        "colab": {
          "base_uri": "https://localhost:8080/"
        },
        "id": "8a2b871d-6451-4919-9a47-f8c858b35267",
        "outputId": "2ccb706b-b4c3-4221-9cfe-b6655af9a2ee"
      },
      "outputs": [
        {
          "output_type": "execute_result",
          "data": {
            "text/plain": [
              "True"
            ]
          },
          "metadata": {},
          "execution_count": 29
        }
      ],
      "source": [
        "##Boolean\n",
        "True"
      ]
    },
    {
      "cell_type": "code",
      "execution_count": 30,
      "id": "13b61e46-94d4-4ca0-bf8d-e37037e4e094",
      "metadata": {
        "colab": {
          "base_uri": "https://localhost:8080/"
        },
        "id": "13b61e46-94d4-4ca0-bf8d-e37037e4e094",
        "outputId": "75f0d333-2df7-4731-ea44-c8528828bdb7"
      },
      "outputs": [
        {
          "output_type": "execute_result",
          "data": {
            "text/plain": [
              "False"
            ]
          },
          "metadata": {},
          "execution_count": 30
        }
      ],
      "source": [
        "False"
      ]
    },
    {
      "cell_type": "code",
      "execution_count": 31,
      "id": "5dab5101-167b-4581-a849-e0498b5c317c",
      "metadata": {
        "colab": {
          "base_uri": "https://localhost:8080/"
        },
        "id": "5dab5101-167b-4581-a849-e0498b5c317c",
        "outputId": "f02e9b55-4d3a-4da8-d1ab-44893181b0fa"
      },
      "outputs": [
        {
          "output_type": "execute_result",
          "data": {
            "text/plain": [
              "False"
            ]
          },
          "metadata": {},
          "execution_count": 31
        }
      ],
      "source": [
        "True and False"
      ]
    },
    {
      "cell_type": "code",
      "execution_count": 32,
      "id": "fe2c1827-bfba-4267-a8e9-900c0387f019",
      "metadata": {
        "colab": {
          "base_uri": "https://localhost:8080/"
        },
        "id": "fe2c1827-bfba-4267-a8e9-900c0387f019",
        "outputId": "b2b18f39-7887-4864-ef08-ae20f29c7c42"
      },
      "outputs": [
        {
          "output_type": "execute_result",
          "data": {
            "text/plain": [
              "True"
            ]
          },
          "metadata": {},
          "execution_count": 32
        }
      ],
      "source": [
        "True or False"
      ]
    },
    {
      "cell_type": "code",
      "execution_count": 33,
      "id": "c120399d-d02c-4770-bc6a-384d336daff9",
      "metadata": {
        "colab": {
          "base_uri": "https://localhost:8080/"
        },
        "id": "c120399d-d02c-4770-bc6a-384d336daff9",
        "outputId": "266cb612-4d26-4b83-b833-d7a1ce9d7b3c"
      },
      "outputs": [
        {
          "output_type": "execute_result",
          "data": {
            "text/plain": [
              "False"
            ]
          },
          "metadata": {},
          "execution_count": 33
        }
      ],
      "source": [
        "not True"
      ]
    },
    {
      "cell_type": "code",
      "execution_count": 34,
      "id": "1351bec8-2e41-458d-9dae-c0268f28fd40",
      "metadata": {
        "colab": {
          "base_uri": "https://localhost:8080/"
        },
        "id": "1351bec8-2e41-458d-9dae-c0268f28fd40",
        "outputId": "bb5b4539-38ea-466f-a3f5-958f3f37ec9f"
      },
      "outputs": [
        {
          "output_type": "execute_result",
          "data": {
            "text/plain": [
              "bool"
            ]
          },
          "metadata": {},
          "execution_count": 34
        }
      ],
      "source": [
        "type(not False)"
      ]
    },
    {
      "cell_type": "code",
      "execution_count": 35,
      "id": "53534b69-4ce1-4853-9f82-9fed89d189f1",
      "metadata": {
        "colab": {
          "base_uri": "https://localhost:8080/"
        },
        "id": "53534b69-4ce1-4853-9f82-9fed89d189f1",
        "outputId": "29cb4e3f-9dec-4203-c0f2-51f86558d5c0"
      },
      "outputs": [
        {
          "output_type": "execute_result",
          "data": {
            "text/plain": [
              "False"
            ]
          },
          "metadata": {},
          "execution_count": 35
        }
      ],
      "source": [
        "## Typecasting\n",
        "bool(0)"
      ]
    },
    {
      "cell_type": "code",
      "execution_count": 36,
      "id": "80170bec-41e6-47f4-8175-31903d56ab07",
      "metadata": {
        "colab": {
          "base_uri": "https://localhost:8080/",
          "height": 35
        },
        "id": "80170bec-41e6-47f4-8175-31903d56ab07",
        "outputId": "15270c9d-3aa2-4900-b73a-7116d3af1a1b"
      },
      "outputs": [
        {
          "output_type": "execute_result",
          "data": {
            "text/plain": [
              "'23'"
            ],
            "application/vnd.google.colaboratory.intrinsic+json": {
              "type": "string"
            }
          },
          "metadata": {},
          "execution_count": 36
        }
      ],
      "source": [
        "str(23)"
      ]
    },
    {
      "cell_type": "code",
      "execution_count": 37,
      "id": "2f8b8904-63f7-4f58-9c07-33e3ed046c57",
      "metadata": {
        "colab": {
          "base_uri": "https://localhost:8080/"
        },
        "id": "2f8b8904-63f7-4f58-9c07-33e3ed046c57",
        "outputId": "d74be75d-28de-4fb0-8587-519e511824e9"
      },
      "outputs": [
        {
          "output_type": "execute_result",
          "data": {
            "text/plain": [
              "23"
            ]
          },
          "metadata": {},
          "execution_count": 37
        }
      ],
      "source": [
        "int('23')"
      ]
    },
    {
      "cell_type": "code",
      "execution_count": 38,
      "id": "f1ec5c3f-0c4b-40e1-9386-d06d7c818f36",
      "metadata": {
        "colab": {
          "base_uri": "https://localhost:8080/"
        },
        "id": "f1ec5c3f-0c4b-40e1-9386-d06d7c818f36",
        "outputId": "4f7172f3-7dd7-4c31-a552-9065530fc947"
      },
      "outputs": [
        {
          "output_type": "execute_result",
          "data": {
            "text/plain": [
              "int"
            ]
          },
          "metadata": {},
          "execution_count": 38
        }
      ],
      "source": [
        "type(int('23'))"
      ]
    },
    {
      "cell_type": "code",
      "execution_count": 39,
      "id": "ba88b2c8-28ef-4480-a3a5-7a6749983e86",
      "metadata": {
        "colab": {
          "base_uri": "https://localhost:8080/"
        },
        "id": "ba88b2c8-28ef-4480-a3a5-7a6749983e86",
        "outputId": "b3e55e0b-e180-4bc7-9c76-74c3db529b69"
      },
      "outputs": [
        {
          "output_type": "execute_result",
          "data": {
            "text/plain": [
              "True"
            ]
          },
          "metadata": {},
          "execution_count": 39
        }
      ],
      "source": [
        "bool(1)"
      ]
    },
    {
      "cell_type": "code",
      "execution_count": 40,
      "id": "d640e261-2add-4bcc-863a-61720fbf9ca6",
      "metadata": {
        "colab": {
          "base_uri": "https://localhost:8080/"
        },
        "id": "d640e261-2add-4bcc-863a-61720fbf9ca6",
        "outputId": "0928e779-6ebd-4655-b688-fc402838d088"
      },
      "outputs": [
        {
          "output_type": "stream",
          "name": "stdout",
          "text": [
            "True\n"
          ]
        }
      ],
      "source": [
        "a=1\n",
        "if bool(a)==True:\n",
        "    \n",
        "    print(\"True\")"
      ]
    },
    {
      "cell_type": "code",
      "execution_count": 41,
      "id": "23ad6da2-7e44-4f8a-99f3-0f994aadbffe",
      "metadata": {
        "colab": {
          "base_uri": "https://localhost:8080/"
        },
        "id": "23ad6da2-7e44-4f8a-99f3-0f994aadbffe",
        "outputId": "ba8589bc-b2ad-492f-a63c-f891bea4c3fd"
      },
      "outputs": [
        {
          "output_type": "execute_result",
          "data": {
            "text/plain": [
              "123"
            ]
          },
          "metadata": {},
          "execution_count": 41
        }
      ],
      "source": [
        "int('123')"
      ]
    },
    {
      "cell_type": "markdown",
      "id": "5e3efeb7-a315-46e7-90c3-e1a3276f0767",
      "metadata": {
        "id": "5e3efeb7-a315-46e7-90c3-e1a3276f0767"
      },
      "source": [
        "### Dynamic Typing"
      ]
    },
    {
      "cell_type": "code",
      "execution_count": 42,
      "id": "a2e0d9fb-b759-4f56-aa55-6e381adbc4da",
      "metadata": {
        "id": "a2e0d9fb-b759-4f56-aa55-6e381adbc4da"
      },
      "outputs": [],
      "source": [
        "a=12\n",
        "str1=\"Krissh\"\n",
        "a=\"var\""
      ]
    },
    {
      "cell_type": "code",
      "execution_count": 43,
      "id": "a28c8802-996d-44b0-977b-59428c76cb68",
      "metadata": {
        "colab": {
          "base_uri": "https://localhost:8080/"
        },
        "id": "a28c8802-996d-44b0-977b-59428c76cb68",
        "outputId": "fe98327a-9a87-42fb-e17d-0ff7c60b06a4"
      },
      "outputs": [
        {
          "output_type": "stream",
          "name": "stdout",
          "text": [
            "<class 'str'>\n"
          ]
        }
      ],
      "source": [
        "print(type(a))"
      ]
    },
    {
      "cell_type": "code",
      "execution_count": 44,
      "id": "cf6e3443-acd9-45a5-b020-fd4ce7430d3b",
      "metadata": {
        "colab": {
          "base_uri": "https://localhost:8080/"
        },
        "id": "cf6e3443-acd9-45a5-b020-fd4ce7430d3b",
        "outputId": "56b5077f-fb95-4a2f-c95a-df53ad97fb1e"
      },
      "outputs": [
        {
          "output_type": "execute_result",
          "data": {
            "text/plain": [
              "1"
            ]
          },
          "metadata": {},
          "execution_count": 44
        }
      ],
      "source": [
        "int(1.54)"
      ]
    },
    {
      "cell_type": "code",
      "execution_count": 45,
      "id": "3b9500aa-2400-4bed-bd8b-888771f0682a",
      "metadata": {
        "id": "3b9500aa-2400-4bed-bd8b-888771f0682a"
      },
      "outputs": [],
      "source": [
        "## concatenation between different types"
      ]
    },
    {
      "cell_type": "code",
      "execution_count": 46,
      "id": "9194b55a-dacb-4151-ba1a-55752727ed03",
      "metadata": {
        "colab": {
          "base_uri": "https://localhost:8080/",
          "height": 166
        },
        "id": "9194b55a-dacb-4151-ba1a-55752727ed03",
        "outputId": "4739ce07-604e-4a5a-9dc1-41d08f996a4f"
      },
      "outputs": [
        {
          "output_type": "error",
          "ename": "TypeError",
          "evalue": "ignored",
          "traceback": [
            "\u001b[0;31m---------------------------------------------------------------------------\u001b[0m",
            "\u001b[0;31mTypeError\u001b[0m                                 Traceback (most recent call last)",
            "\u001b[0;32m<ipython-input-46-ccb4355fcba5>\u001b[0m in \u001b[0;36m<module>\u001b[0;34m\u001b[0m\n\u001b[0;32m----> 1\u001b[0;31m \u001b[0mint\u001b[0m\u001b[0;34m(\u001b[0m\u001b[0;34m\"1\"\u001b[0m\u001b[0;34m)\u001b[0m \u001b[0;34m+\u001b[0m \u001b[0;34m\"1\"\u001b[0m\u001b[0;34m\u001b[0m\u001b[0;34m\u001b[0m\u001b[0m\n\u001b[0m",
            "\u001b[0;31mTypeError\u001b[0m: unsupported operand type(s) for +: 'int' and 'str'"
          ]
        }
      ],
      "source": [
        "int(\"1\") + \"1\""
      ]
    },
    {
      "cell_type": "code",
      "execution_count": 47,
      "id": "2e3cbfe3-9e1a-43f5-8ef4-418e31a90e01",
      "metadata": {
        "colab": {
          "base_uri": "https://localhost:8080/",
          "height": 35
        },
        "id": "2e3cbfe3-9e1a-43f5-8ef4-418e31a90e01",
        "outputId": "27447e5a-20d9-4736-d907-0388d62a5f48"
      },
      "outputs": [
        {
          "output_type": "execute_result",
          "data": {
            "text/plain": [
              "'1111111111111111111111111111111111111111111111111111111111111111111111111111111111111111111111111111'"
            ],
            "application/vnd.google.colaboratory.intrinsic+json": {
              "type": "string"
            }
          },
          "metadata": {},
          "execution_count": 47
        }
      ],
      "source": [
        "\"1\" * 100"
      ]
    },
    {
      "cell_type": "code",
      "execution_count": 47,
      "id": "4ece8de7-4686-4635-9735-3f95b6d3660e",
      "metadata": {
        "id": "4ece8de7-4686-4635-9735-3f95b6d3660e"
      },
      "outputs": [],
      "source": []
    },
    {
      "cell_type": "code",
      "execution_count": null,
      "id": "aaa90912-fa74-44c5-9c17-9d552c8f8a91",
      "metadata": {
        "id": "aaa90912-fa74-44c5-9c17-9d552c8f8a91"
      },
      "outputs": [],
      "source": []
    },
    {
      "cell_type": "code",
      "execution_count": null,
      "id": "b57c6cf4-667e-463d-a1fb-780f61d15d91",
      "metadata": {
        "id": "b57c6cf4-667e-463d-a1fb-780f61d15d91"
      },
      "outputs": [],
      "source": []
    },
    {
      "cell_type": "code",
      "execution_count": null,
      "id": "e8e9009c-e8cd-421b-807f-4dd923a9f708",
      "metadata": {
        "id": "e8e9009c-e8cd-421b-807f-4dd923a9f708"
      },
      "outputs": [],
      "source": []
    }
  ],
  "metadata": {
    "kernelspec": {
      "display_name": "Python 3 (ipykernel)",
      "language": "python",
      "name": "python3"
    },
    "language_info": {
      "codemirror_mode": {
        "name": "ipython",
        "version": 3
      },
      "file_extension": ".py",
      "mimetype": "text/x-python",
      "name": "python",
      "nbconvert_exporter": "python",
      "pygments_lexer": "ipython3",
      "version": "3.10.8"
    },
    "colab": {
      "provenance": [],
      "include_colab_link": true
    }
  },
  "nbformat": 4,
  "nbformat_minor": 5
}